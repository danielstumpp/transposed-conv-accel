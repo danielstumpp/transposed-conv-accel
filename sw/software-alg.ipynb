{
 "cells": [
  {
   "cell_type": "code",
   "execution_count": 2,
   "metadata": {},
   "outputs": [],
   "source": [
    "import torch\n",
    "from torch import nn\n",
    "import numpy as np\n"
   ]
  },
  {
   "cell_type": "markdown",
   "metadata": {},
   "source": [
    "## Transposed Conv.\n",
    "\n",
    "output size = s(n - 1) + k -2p<br/>\n",
    "\n",
    "s: stride<br/>\n",
    "n: input height/width<br/>\n",
    "k: kernel size<br/>\n",
    "p: padding<br/>\n",
    "\n",
    "Increase p -> Decrease output size"
   ]
  },
  {
   "cell_type": "code",
   "execution_count": 14,
   "metadata": {},
   "outputs": [
    {
     "name": "stdout",
     "output_type": "stream",
     "text": [
      "torch.Size([1, 2, 14, 14])\n",
      "tensor([[[[2., 2., 3., 2., 2., 3., 2., 2., 3., 2., 2., 3., 2., 2.],\n",
      "          [2., 2., 3., 2., 2., 3., 2., 2., 3., 2., 2., 3., 2., 2.],\n",
      "          [3., 3., 5., 3., 3., 5., 3., 3., 5., 3., 3., 5., 3., 3.],\n",
      "          [2., 2., 3., 2., 2., 3., 2., 2., 3., 2., 2., 3., 2., 2.],\n",
      "          [2., 2., 3., 2., 2., 3., 2., 2., 3., 2., 2., 3., 2., 2.],\n",
      "          [3., 3., 5., 3., 3., 5., 3., 3., 5., 3., 3., 5., 3., 3.],\n",
      "          [2., 2., 3., 2., 2., 3., 2., 2., 3., 2., 2., 3., 2., 2.],\n",
      "          [2., 2., 3., 2., 2., 3., 2., 2., 3., 2., 2., 3., 2., 2.],\n",
      "          [3., 3., 5., 3., 3., 5., 3., 3., 5., 3., 3., 5., 3., 3.],\n",
      "          [2., 2., 3., 2., 2., 3., 2., 2., 3., 2., 2., 3., 2., 2.],\n",
      "          [2., 2., 3., 2., 2., 3., 2., 2., 3., 2., 2., 3., 2., 2.],\n",
      "          [3., 3., 5., 3., 3., 5., 3., 3., 5., 3., 3., 5., 3., 3.],\n",
      "          [2., 2., 3., 2., 2., 3., 2., 2., 3., 2., 2., 3., 2., 2.],\n",
      "          [2., 2., 3., 2., 2., 3., 2., 2., 3., 2., 2., 3., 2., 2.]],\n",
      "\n",
      "         [[2., 2., 3., 2., 2., 3., 2., 2., 3., 2., 2., 3., 2., 2.],\n",
      "          [2., 2., 3., 2., 2., 3., 2., 2., 3., 2., 2., 3., 2., 2.],\n",
      "          [3., 3., 5., 3., 3., 5., 3., 3., 5., 3., 3., 5., 3., 3.],\n",
      "          [2., 2., 3., 2., 2., 3., 2., 2., 3., 2., 2., 3., 2., 2.],\n",
      "          [2., 2., 3., 2., 2., 3., 2., 2., 3., 2., 2., 3., 2., 2.],\n",
      "          [3., 3., 5., 3., 3., 5., 3., 3., 5., 3., 3., 5., 3., 3.],\n",
      "          [2., 2., 3., 2., 2., 3., 2., 2., 3., 2., 2., 3., 2., 2.],\n",
      "          [2., 2., 3., 2., 2., 3., 2., 2., 3., 2., 2., 3., 2., 2.],\n",
      "          [3., 3., 5., 3., 3., 5., 3., 3., 5., 3., 3., 5., 3., 3.],\n",
      "          [2., 2., 3., 2., 2., 3., 2., 2., 3., 2., 2., 3., 2., 2.],\n",
      "          [2., 2., 3., 2., 2., 3., 2., 2., 3., 2., 2., 3., 2., 2.],\n",
      "          [3., 3., 5., 3., 3., 5., 3., 3., 5., 3., 3., 5., 3., 3.],\n",
      "          [2., 2., 3., 2., 2., 3., 2., 2., 3., 2., 2., 3., 2., 2.],\n",
      "          [2., 2., 3., 2., 2., 3., 2., 2., 3., 2., 2., 3., 2., 2.]]]],\n",
      "       grad_fn=<SlowConvTranspose2DBackward>)\n"
     ]
    }
   ],
   "source": [
    "in_channels = 1\n",
    "out_channels = 2\n",
    "in_size = 5\n",
    "kernel_size = 4\n",
    "stride = 3\n",
    "pad = 1\n",
    "bias = True\n",
    "\n",
    "X = torch.ones(in_size*in_size*in_channels).view(1,in_channels,in_size,in_size)\n",
    "\n",
    "conv_t = nn.ConvTranspose2d(in_channels=in_channels,\n",
    "                            out_channels=out_channels,\n",
    "                            stride=stride,\n",
    "                            kernel_size=(kernel_size,kernel_size),\n",
    "                            padding=pad,\n",
    "                            bias=bias,\n",
    "                            )\n",
    "conv_t.weight.data.fill_(1)\n",
    "with torch.no_grad():\n",
    "    conv_t.bias.fill_(1)\n",
    "\n",
    "print(conv_t(X).size())\n",
    "print(conv_t(X))"
   ]
  }
 ],
 "metadata": {
  "interpreter": {
   "hash": "7ccb67de7081a05f54dc297e18d4107ab1f61dedc55f288c5f31e7d83840b6d4"
  },
  "kernelspec": {
   "display_name": "Python 3.7.3 ('base')",
   "language": "python",
   "name": "python3"
  },
  "language_info": {
   "codemirror_mode": {
    "name": "ipython",
    "version": 3
   },
   "file_extension": ".py",
   "mimetype": "text/x-python",
   "name": "python",
   "nbconvert_exporter": "python",
   "pygments_lexer": "ipython3",
   "version": "3.7.3"
  },
  "orig_nbformat": 4
 },
 "nbformat": 4,
 "nbformat_minor": 2
}
